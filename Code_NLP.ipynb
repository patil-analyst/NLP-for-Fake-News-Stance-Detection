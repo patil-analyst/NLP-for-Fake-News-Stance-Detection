{
 "cells": [
  {
   "cell_type": "markdown",
   "id": "72d97aa1",
   "metadata": {},
   "source": [
    "NLA assignment\n",
    "----\n",
    "\n",
    "This Code was done as part of Durham University's Summative Assessment for the subject of Natural Language Analysis."
   ]
  },
  {
   "cell_type": "code",
   "execution_count": 30,
   "id": "62d188a9",
   "metadata": {},
   "outputs": [
    {
     "data": {
      "text/plain": [
       "<torch._C.Generator at 0x21ea2fd7c90>"
      ]
     },
     "execution_count": 30,
     "metadata": {},
     "output_type": "execute_result"
    }
   ],
   "source": [
    "import pandas as pd\n",
    "import matplotlib.pyplot as plt\n",
    "import seaborn as sns\n",
    "import numpy as np\n",
    "import torch\n",
    "from tqdm.auto import tqdm\n",
    "\n",
    "from sklearn.model_selection import train_test_split, GridSearchCV\n",
    "from sklearn.feature_extraction.text import TfidfVectorizer\n",
    "from sklearn.linear_model import LogisticRegression\n",
    "from sklearn.ensemble import RandomForestClassifier\n",
    "from sklearn.metrics import classification_report, accuracy_score, confusion_matrix\n",
    "\n",
    "from transformers import AutoTokenizer, AutoModel, pipeline, AutoModelForCausalLM\n",
    "\n",
    "# Reproducibility\n",
    "np.random.seed(42)\n",
    "torch.manual_seed(42)"
   ]
  },
  {
   "cell_type": "markdown",
   "id": "28517163",
   "metadata": {},
   "source": [
    "## 2. Load & Merge Data"
   ]
  },
  {
   "cell_type": "code",
   "execution_count": 3,
   "id": "6a5987f9",
   "metadata": {},
   "outputs": [],
   "source": [
    "bodies = pd.read_csv('bodies.csv')\n",
    "stances = pd.read_csv('stances.csv')"
   ]
  },
  {
   "cell_type": "code",
   "execution_count": 4,
   "id": "a4fc3f06",
   "metadata": {},
   "outputs": [
    {
     "data": {
      "text/html": [
       "<div>\n",
       "<style scoped>\n",
       "    .dataframe tbody tr th:only-of-type {\n",
       "        vertical-align: middle;\n",
       "    }\n",
       "\n",
       "    .dataframe tbody tr th {\n",
       "        vertical-align: top;\n",
       "    }\n",
       "\n",
       "    .dataframe thead th {\n",
       "        text-align: right;\n",
       "    }\n",
       "</style>\n",
       "<table border=\"1\" class=\"dataframe\">\n",
       "  <thead>\n",
       "    <tr style=\"text-align: right;\">\n",
       "      <th></th>\n",
       "      <th>Headline</th>\n",
       "      <th>Body ID</th>\n",
       "      <th>Stance</th>\n",
       "    </tr>\n",
       "  </thead>\n",
       "  <tbody>\n",
       "    <tr>\n",
       "      <th>0</th>\n",
       "      <td>Police find mass graves with at least '15 bodi...</td>\n",
       "      <td>712</td>\n",
       "      <td>unrelated</td>\n",
       "    </tr>\n",
       "    <tr>\n",
       "      <th>1</th>\n",
       "      <td>Hundreds of Palestinians flee floods in Gaza a...</td>\n",
       "      <td>158</td>\n",
       "      <td>agree</td>\n",
       "    </tr>\n",
       "    <tr>\n",
       "      <th>2</th>\n",
       "      <td>Christian Bale passes on role of Steve Jobs, a...</td>\n",
       "      <td>137</td>\n",
       "      <td>unrelated</td>\n",
       "    </tr>\n",
       "    <tr>\n",
       "      <th>3</th>\n",
       "      <td>HBO and Apple in Talks for $15/Month Apple TV ...</td>\n",
       "      <td>1034</td>\n",
       "      <td>unrelated</td>\n",
       "    </tr>\n",
       "    <tr>\n",
       "      <th>4</th>\n",
       "      <td>Spider burrowed through tourist's stomach and ...</td>\n",
       "      <td>1923</td>\n",
       "      <td>disagree</td>\n",
       "    </tr>\n",
       "    <tr>\n",
       "      <th>...</th>\n",
       "      <td>...</td>\n",
       "      <td>...</td>\n",
       "      <td>...</td>\n",
       "    </tr>\n",
       "    <tr>\n",
       "      <th>49967</th>\n",
       "      <td>Urgent: The Leader of ISIL 'Abu Bakr al-Baghda...</td>\n",
       "      <td>1681</td>\n",
       "      <td>unrelated</td>\n",
       "    </tr>\n",
       "    <tr>\n",
       "      <th>49968</th>\n",
       "      <td>Brian Williams slams social media for speculat...</td>\n",
       "      <td>2419</td>\n",
       "      <td>unrelated</td>\n",
       "    </tr>\n",
       "    <tr>\n",
       "      <th>49969</th>\n",
       "      <td>Mexico Says Missing Students Not Found In Firs...</td>\n",
       "      <td>1156</td>\n",
       "      <td>agree</td>\n",
       "    </tr>\n",
       "    <tr>\n",
       "      <th>49970</th>\n",
       "      <td>US Lawmaker: Ten ISIS Fighters Have Been Appre...</td>\n",
       "      <td>1012</td>\n",
       "      <td>discuss</td>\n",
       "    </tr>\n",
       "    <tr>\n",
       "      <th>49971</th>\n",
       "      <td>Shots Heard In Alleged Brown Shooting Recordin...</td>\n",
       "      <td>2044</td>\n",
       "      <td>unrelated</td>\n",
       "    </tr>\n",
       "  </tbody>\n",
       "</table>\n",
       "<p>49972 rows × 3 columns</p>\n",
       "</div>"
      ],
      "text/plain": [
       "                                                Headline  Body ID     Stance\n",
       "0      Police find mass graves with at least '15 bodi...      712  unrelated\n",
       "1      Hundreds of Palestinians flee floods in Gaza a...      158      agree\n",
       "2      Christian Bale passes on role of Steve Jobs, a...      137  unrelated\n",
       "3      HBO and Apple in Talks for $15/Month Apple TV ...     1034  unrelated\n",
       "4      Spider burrowed through tourist's stomach and ...     1923   disagree\n",
       "...                                                  ...      ...        ...\n",
       "49967  Urgent: The Leader of ISIL 'Abu Bakr al-Baghda...     1681  unrelated\n",
       "49968  Brian Williams slams social media for speculat...     2419  unrelated\n",
       "49969  Mexico Says Missing Students Not Found In Firs...     1156      agree\n",
       "49970  US Lawmaker: Ten ISIS Fighters Have Been Appre...     1012    discuss\n",
       "49971  Shots Heard In Alleged Brown Shooting Recordin...     2044  unrelated\n",
       "\n",
       "[49972 rows x 3 columns]"
      ]
     },
     "execution_count": 4,
     "metadata": {},
     "output_type": "execute_result"
    }
   ],
   "source": [
    "stances"
   ]
  },
  {
   "cell_type": "code",
   "execution_count": 5,
   "id": "f93bc9e0",
   "metadata": {},
   "outputs": [
    {
     "data": {
      "text/html": [
       "<div>\n",
       "<style scoped>\n",
       "    .dataframe tbody tr th:only-of-type {\n",
       "        vertical-align: middle;\n",
       "    }\n",
       "\n",
       "    .dataframe tbody tr th {\n",
       "        vertical-align: top;\n",
       "    }\n",
       "\n",
       "    .dataframe thead th {\n",
       "        text-align: right;\n",
       "    }\n",
       "</style>\n",
       "<table border=\"1\" class=\"dataframe\">\n",
       "  <thead>\n",
       "    <tr style=\"text-align: right;\">\n",
       "      <th></th>\n",
       "      <th>Body ID</th>\n",
       "      <th>articleBody</th>\n",
       "    </tr>\n",
       "  </thead>\n",
       "  <tbody>\n",
       "    <tr>\n",
       "      <th>0</th>\n",
       "      <td>0</td>\n",
       "      <td>A small meteorite crashed into a wooded area i...</td>\n",
       "    </tr>\n",
       "    <tr>\n",
       "      <th>1</th>\n",
       "      <td>4</td>\n",
       "      <td>Last week we hinted at what was to come as Ebo...</td>\n",
       "    </tr>\n",
       "    <tr>\n",
       "      <th>2</th>\n",
       "      <td>5</td>\n",
       "      <td>(NEWSER) – Wonder how long a Quarter Pounder w...</td>\n",
       "    </tr>\n",
       "    <tr>\n",
       "      <th>3</th>\n",
       "      <td>6</td>\n",
       "      <td>Posting photos of a gun-toting child online, I...</td>\n",
       "    </tr>\n",
       "    <tr>\n",
       "      <th>4</th>\n",
       "      <td>7</td>\n",
       "      <td>At least 25 suspected Boko Haram insurgents we...</td>\n",
       "    </tr>\n",
       "    <tr>\n",
       "      <th>...</th>\n",
       "      <td>...</td>\n",
       "      <td>...</td>\n",
       "    </tr>\n",
       "    <tr>\n",
       "      <th>1678</th>\n",
       "      <td>2528</td>\n",
       "      <td>Intelligence agencies hunting for identity of ...</td>\n",
       "    </tr>\n",
       "    <tr>\n",
       "      <th>1679</th>\n",
       "      <td>2529</td>\n",
       "      <td>While Daleks \"know no fear\" and \"must not fear...</td>\n",
       "    </tr>\n",
       "    <tr>\n",
       "      <th>1680</th>\n",
       "      <td>2530</td>\n",
       "      <td>More than 200 schoolgirls were kidnapped in Ap...</td>\n",
       "    </tr>\n",
       "    <tr>\n",
       "      <th>1681</th>\n",
       "      <td>2531</td>\n",
       "      <td>A Guantanamo Bay prisoner released last year a...</td>\n",
       "    </tr>\n",
       "    <tr>\n",
       "      <th>1682</th>\n",
       "      <td>2532</td>\n",
       "      <td>ANN ARBOR, Mich. – A pizza delivery man in Mic...</td>\n",
       "    </tr>\n",
       "  </tbody>\n",
       "</table>\n",
       "<p>1683 rows × 2 columns</p>\n",
       "</div>"
      ],
      "text/plain": [
       "      Body ID                                        articleBody\n",
       "0           0  A small meteorite crashed into a wooded area i...\n",
       "1           4  Last week we hinted at what was to come as Ebo...\n",
       "2           5  (NEWSER) – Wonder how long a Quarter Pounder w...\n",
       "3           6  Posting photos of a gun-toting child online, I...\n",
       "4           7  At least 25 suspected Boko Haram insurgents we...\n",
       "...       ...                                                ...\n",
       "1678     2528  Intelligence agencies hunting for identity of ...\n",
       "1679     2529  While Daleks \"know no fear\" and \"must not fear...\n",
       "1680     2530  More than 200 schoolgirls were kidnapped in Ap...\n",
       "1681     2531  A Guantanamo Bay prisoner released last year a...\n",
       "1682     2532  ANN ARBOR, Mich. – A pizza delivery man in Mic...\n",
       "\n",
       "[1683 rows x 2 columns]"
      ]
     },
     "execution_count": 5,
     "metadata": {},
     "output_type": "execute_result"
    }
   ],
   "source": [
    "bodies"
   ]
  },
  {
   "cell_type": "code",
   "execution_count": 7,
   "id": "84ff37b2",
   "metadata": {},
   "outputs": [],
   "source": [
    "joint = pd.merge(stances, bodies, on=\"Body ID\", how=\"left\")"
   ]
  },
  {
   "cell_type": "code",
   "execution_count": 10,
   "id": "3168285a",
   "metadata": {},
   "outputs": [
    {
     "data": {
      "text/html": [
       "<div>\n",
       "<style scoped>\n",
       "    .dataframe tbody tr th:only-of-type {\n",
       "        vertical-align: middle;\n",
       "    }\n",
       "\n",
       "    .dataframe tbody tr th {\n",
       "        vertical-align: top;\n",
       "    }\n",
       "\n",
       "    .dataframe thead th {\n",
       "        text-align: right;\n",
       "    }\n",
       "</style>\n",
       "<table border=\"1\" class=\"dataframe\">\n",
       "  <thead>\n",
       "    <tr style=\"text-align: right;\">\n",
       "      <th></th>\n",
       "      <th>Headline</th>\n",
       "      <th>Body ID</th>\n",
       "      <th>Stance</th>\n",
       "      <th>articleBody</th>\n",
       "    </tr>\n",
       "  </thead>\n",
       "  <tbody>\n",
       "    <tr>\n",
       "      <th>0</th>\n",
       "      <td>Police find mass graves with at least '15 bodi...</td>\n",
       "      <td>712</td>\n",
       "      <td>unrelated</td>\n",
       "      <td>Danny Boyle is directing the untitled film\\n\\n...</td>\n",
       "    </tr>\n",
       "    <tr>\n",
       "      <th>1</th>\n",
       "      <td>Hundreds of Palestinians flee floods in Gaza a...</td>\n",
       "      <td>158</td>\n",
       "      <td>agree</td>\n",
       "      <td>Hundreds of Palestinians were evacuated from t...</td>\n",
       "    </tr>\n",
       "    <tr>\n",
       "      <th>2</th>\n",
       "      <td>Christian Bale passes on role of Steve Jobs, a...</td>\n",
       "      <td>137</td>\n",
       "      <td>unrelated</td>\n",
       "      <td>30-year-old Moscow resident was hospitalized w...</td>\n",
       "    </tr>\n",
       "    <tr>\n",
       "      <th>3</th>\n",
       "      <td>HBO and Apple in Talks for $15/Month Apple TV ...</td>\n",
       "      <td>1034</td>\n",
       "      <td>unrelated</td>\n",
       "      <td>(Reuters) - A Canadian soldier was shot at the...</td>\n",
       "    </tr>\n",
       "    <tr>\n",
       "      <th>4</th>\n",
       "      <td>Spider burrowed through tourist's stomach and ...</td>\n",
       "      <td>1923</td>\n",
       "      <td>disagree</td>\n",
       "      <td>Fear not arachnophobes, the story of Bunbury's...</td>\n",
       "    </tr>\n",
       "    <tr>\n",
       "      <th>...</th>\n",
       "      <td>...</td>\n",
       "      <td>...</td>\n",
       "      <td>...</td>\n",
       "      <td>...</td>\n",
       "    </tr>\n",
       "    <tr>\n",
       "      <th>49967</th>\n",
       "      <td>Urgent: The Leader of ISIL 'Abu Bakr al-Baghda...</td>\n",
       "      <td>1681</td>\n",
       "      <td>unrelated</td>\n",
       "      <td>(CNN) -- Boko Haram laughed off Nigeria's anno...</td>\n",
       "    </tr>\n",
       "    <tr>\n",
       "      <th>49968</th>\n",
       "      <td>Brian Williams slams social media for speculat...</td>\n",
       "      <td>2419</td>\n",
       "      <td>unrelated</td>\n",
       "      <td>Along with unveiling the Apple Watch earlier t...</td>\n",
       "    </tr>\n",
       "    <tr>\n",
       "      <th>49969</th>\n",
       "      <td>Mexico Says Missing Students Not Found In Firs...</td>\n",
       "      <td>1156</td>\n",
       "      <td>agree</td>\n",
       "      <td>The bodies found in a mass grave were confirme...</td>\n",
       "    </tr>\n",
       "    <tr>\n",
       "      <th>49970</th>\n",
       "      <td>US Lawmaker: Ten ISIS Fighters Have Been Appre...</td>\n",
       "      <td>1012</td>\n",
       "      <td>discuss</td>\n",
       "      <td>Rep. Duncan Hunter (R-CA) told Greta Van Suste...</td>\n",
       "    </tr>\n",
       "    <tr>\n",
       "      <th>49971</th>\n",
       "      <td>Shots Heard In Alleged Brown Shooting Recordin...</td>\n",
       "      <td>2044</td>\n",
       "      <td>unrelated</td>\n",
       "      <td>A married TV actor who met a young woman and k...</td>\n",
       "    </tr>\n",
       "  </tbody>\n",
       "</table>\n",
       "<p>49972 rows × 4 columns</p>\n",
       "</div>"
      ],
      "text/plain": [
       "                                                Headline  Body ID     Stance  \\\n",
       "0      Police find mass graves with at least '15 bodi...      712  unrelated   \n",
       "1      Hundreds of Palestinians flee floods in Gaza a...      158      agree   \n",
       "2      Christian Bale passes on role of Steve Jobs, a...      137  unrelated   \n",
       "3      HBO and Apple in Talks for $15/Month Apple TV ...     1034  unrelated   \n",
       "4      Spider burrowed through tourist's stomach and ...     1923   disagree   \n",
       "...                                                  ...      ...        ...   \n",
       "49967  Urgent: The Leader of ISIL 'Abu Bakr al-Baghda...     1681  unrelated   \n",
       "49968  Brian Williams slams social media for speculat...     2419  unrelated   \n",
       "49969  Mexico Says Missing Students Not Found In Firs...     1156      agree   \n",
       "49970  US Lawmaker: Ten ISIS Fighters Have Been Appre...     1012    discuss   \n",
       "49971  Shots Heard In Alleged Brown Shooting Recordin...     2044  unrelated   \n",
       "\n",
       "                                             articleBody  \n",
       "0      Danny Boyle is directing the untitled film\\n\\n...  \n",
       "1      Hundreds of Palestinians were evacuated from t...  \n",
       "2      30-year-old Moscow resident was hospitalized w...  \n",
       "3      (Reuters) - A Canadian soldier was shot at the...  \n",
       "4      Fear not arachnophobes, the story of Bunbury's...  \n",
       "...                                                  ...  \n",
       "49967  (CNN) -- Boko Haram laughed off Nigeria's anno...  \n",
       "49968  Along with unveiling the Apple Watch earlier t...  \n",
       "49969  The bodies found in a mass grave were confirme...  \n",
       "49970  Rep. Duncan Hunter (R-CA) told Greta Van Suste...  \n",
       "49971  A married TV actor who met a young woman and k...  \n",
       "\n",
       "[49972 rows x 4 columns]"
      ]
     },
     "execution_count": 10,
     "metadata": {},
     "output_type": "execute_result"
    }
   ],
   "source": [
    "df= joint\n",
    "df"
   ]
  },
  {
   "cell_type": "code",
   "execution_count": 12,
   "id": "9b57e12b",
   "metadata": {},
   "outputs": [
    {
     "data": {
      "text/html": [
       "<div>\n",
       "<style scoped>\n",
       "    .dataframe tbody tr th:only-of-type {\n",
       "        vertical-align: middle;\n",
       "    }\n",
       "\n",
       "    .dataframe tbody tr th {\n",
       "        vertical-align: top;\n",
       "    }\n",
       "\n",
       "    .dataframe thead th {\n",
       "        text-align: right;\n",
       "    }\n",
       "</style>\n",
       "<table border=\"1\" class=\"dataframe\">\n",
       "  <thead>\n",
       "    <tr style=\"text-align: right;\">\n",
       "      <th></th>\n",
       "      <th>Body ID</th>\n",
       "      <th>articleBody</th>\n",
       "    </tr>\n",
       "  </thead>\n",
       "  <tbody>\n",
       "    <tr>\n",
       "      <th>475</th>\n",
       "      <td>712</td>\n",
       "      <td>Danny Boyle is directing the untitled film\\n\\n...</td>\n",
       "    </tr>\n",
       "  </tbody>\n",
       "</table>\n",
       "</div>"
      ],
      "text/plain": [
       "     Body ID                                        articleBody\n",
       "475      712  Danny Boyle is directing the untitled film\\n\\n..."
      ]
     },
     "execution_count": 12,
     "metadata": {},
     "output_type": "execute_result"
    }
   ],
   "source": [
    "bodies[bodies[\"Body ID\"]==712]"
   ]
  },
  {
   "cell_type": "code",
   "execution_count": 13,
   "id": "c1780b36",
   "metadata": {},
   "outputs": [
    {
     "data": {
      "text/plain": [
       "Headline       0\n",
       "Body ID        0\n",
       "Stance         0\n",
       "articleBody    0\n",
       "dtype: int64"
      ]
     },
     "execution_count": 13,
     "metadata": {},
     "output_type": "execute_result"
    }
   ],
   "source": [
    "joint.isnull().sum()"
   ]
  },
  {
   "cell_type": "code",
   "execution_count": 14,
   "id": "c91895a7",
   "metadata": {},
   "outputs": [
    {
     "data": {
      "text/plain": [
       "array([ 712,  158,  137, ...,  915,  407, 1066], dtype=int64)"
      ]
     },
     "execution_count": 14,
     "metadata": {},
     "output_type": "execute_result"
    }
   ],
   "source": [
    "joint['Body ID'].unique()"
   ]
  },
  {
   "cell_type": "code",
   "execution_count": 15,
   "id": "a110b54c",
   "metadata": {},
   "outputs": [
    {
     "name": "stdout",
     "output_type": "stream",
     "text": [
      "<class 'pandas.core.frame.DataFrame'>\n",
      "RangeIndex: 49972 entries, 0 to 49971\n",
      "Data columns (total 4 columns):\n",
      " #   Column       Non-Null Count  Dtype \n",
      "---  ------       --------------  ----- \n",
      " 0   Headline     49972 non-null  object\n",
      " 1   Body ID      49972 non-null  int64 \n",
      " 2   Stance       49972 non-null  object\n",
      " 3   articleBody  49972 non-null  object\n",
      "dtypes: int64(1), object(3)\n",
      "memory usage: 1.5+ MB\n"
     ]
    }
   ],
   "source": [
    "joint.info()"
   ]
  },
  {
   "cell_type": "code",
   "execution_count": 16,
   "id": "b96dfb0d",
   "metadata": {},
   "outputs": [
    {
     "data": {
      "text/plain": [
       "Stance\n",
       "unrelated    36545\n",
       "discuss       8909\n",
       "agree         3678\n",
       "disagree       840\n",
       "Name: count, dtype: int64"
      ]
     },
     "execution_count": 16,
     "metadata": {},
     "output_type": "execute_result"
    }
   ],
   "source": [
    "joint['Stance'].value_counts()"
   ]
  },
  {
   "cell_type": "code",
   "execution_count": 21,
   "id": "e1328ef7",
   "metadata": {},
   "outputs": [
    {
     "data": {
      "image/png": "[encoded data removed]",
      "text/plain": [
       "<Figure size 800x500 with 1 Axes>"
      ]
     },
     "metadata": {},
     "output_type": "display_data"
    }
   ],
   "source": [
    "#Visualising imbalance\n",
    "plt.figure(figsize=(8,5))\n",
    "sns.countplot(data = joint, x = 'Stance', order = joint['Stance'].value_counts().index)\n",
    "plt.title(\"Class Distribution of Stances\")\n",
    "plt.xlabel(\"Stance\")\n",
    "plt.ylabel(\"Count\")\n",
    "plt.show()"
   ]
  },
  {
   "cell_type": "code",
   "execution_count": 22,
   "id": "a5cb7e2e",
   "metadata": {},
   "outputs": [],
   "source": [
    "from sklearn.model_selection import train_test_split\n",
    "from imblearn.over_sampling import RandomOverSampler\n",
    "\n",
    "#Selecting features\n",
    "x= joint[['Headline', 'articleBody']]\n",
    "\n",
    "#labels\n",
    "y= joint['Stance']\n",
    "\n",
    "#splitting data\n",
    "x_train, x_test, y_train, y_test = train_test_split(x,y, stratify=y, test_size=0.3, random_state=42)\n",
    "\n",
    "#combining headlines and articlebody into a single string for modeling\n",
    "x_train_combined = x_train['Headline'] + \" \" + x_train['articleBody']\n",
    "\n",
    "#Oversampleing the training set\n",
    "ros = RandomOverSampler(random_state=42)\n",
    "x_resampled, y_resampled = ros.fit_resample(x_train_combined.to_frame(), y_train)\n",
    "x_resampled.columns = ['text']"
   ]
  },
  {
   "cell_type": "code",
   "execution_count": 23,
   "id": "cd4168e7",
   "metadata": {},
   "outputs": [
    {
     "data": {
      "text/plain": [
       "Stance\n",
       "discuss      25581\n",
       "unrelated    25581\n",
       "agree        25581\n",
       "disagree     25581\n",
       "Name: count, dtype: int64"
      ]
     },
     "execution_count": 23,
     "metadata": {},
     "output_type": "execute_result"
    }
   ],
   "source": [
    "y_resampled.value_counts()"
   ]
  },
  {
   "cell_type": "code",
   "execution_count": 24,
   "id": "0634dfad",
   "metadata": {},
   "outputs": [],
   "source": [
    "#multi-class Classification\n",
    "\n",
    "#TF-IDF vectorization\n",
    "vectorizer = TfidfVectorizer(max_features = 10000, stop_words = 'english')\n",
    "x_train_tfidf = vectorizer.fit_transform(x_resampled.squeeze())\n",
    "\n",
    "#Prepare the test set (combine headline + article body)\n",
    "x_test_combined = x_test['Headline'] + \" \" + x_test['articleBody']\n",
    "x_test_tfidf = vectorizer.transform(x_test_combined)"
   ]
  },
  {
   "cell_type": "code",
   "execution_count": 27,
   "id": "9d120281",
   "metadata": {},
   "outputs": [
    {
     "name": "stdout",
     "output_type": "stream",
     "text": [
      "\n",
      " Classification Report: \n",
      "\n",
      "              precision    recall  f1-score   support\n",
      "\n",
      "       agree       0.65      0.63      0.64      1103\n",
      "    disagree       0.40      0.37      0.38       252\n",
      "     discuss       0.81      0.82      0.81      2673\n",
      "   unrelated       0.97      0.97      0.97     10964\n",
      "\n",
      "    accuracy                           0.91     14992\n",
      "   macro avg       0.71      0.70      0.70     14992\n",
      "weighted avg       0.91      0.91      0.91     14992\n",
      "\n"
     ]
    }
   ],
   "source": [
    "# Training logistic regression model\n",
    "clf = RandomForestClassifier(n_estimators=200, class_weight='balanced',  random_state=42, n_jobs=-1)\n",
    "clf.fit(x_train_tfidf, y_resampled)\n",
    "\n",
    "# Predicting on the test set\n",
    "y_pred = clf.predict(x_test_tfidf)\n",
    "\n",
    "print(\"\\n Classification Report: \\n\")\n",
    "print(classification_report(y_test, y_pred))"
   ]
  },
  {
   "cell_type": "code",
   "execution_count": 31,
   "id": "be8904b6",
   "metadata": {},
   "outputs": [
    {
     "data": {
      "image/png": "[encoded data removed]",
      "text/plain": [
       "<Figure size 800x600 with 2 Axes>"
      ]
     },
     "metadata": {},
     "output_type": "display_data"
    }
   ],
   "source": [
    "labels = clf.classes_\n",
    "cm = confusion_matrix(y_test,y_pred, labels = labels)\n",
    "\n",
    "plt.figure(figsize=(8,6))\n",
    "sns.heatmap(cm, annot= True, fmt='d', cmap='Blues', xticklabels = labels, yticklabels = labels)\n",
    "plt.xlabel(\"Predicted\")\n",
    "plt.ylabel(\"Actual\")\n",
    "plt.title(\"Confusion Matrix\")\n",
    "plt.show()"
   ]
  },
  {
   "cell_type": "code",
   "execution_count": 32,
   "id": "beaf48cd",
   "metadata": {},
   "outputs": [
    {
     "name": "stdout",
     "output_type": "stream",
     "text": [
      "Train label distribution:\n",
      " Stance\n",
      "Related      76743\n",
      "Unrelated    25581\n",
      "Name: count, dtype: int64\n",
      "\n",
      "Test label distribution:\n",
      " Stance\n",
      "Unrelated    10964\n",
      "Related       4028\n",
      "Name: count, dtype: int64\n"
     ]
    }
   ],
   "source": [
    "#binary Classification\n",
    "def map_to_binary(label):\n",
    "    return \"Related\" if label in [\"agree\", \"disagree\", \"discuss\"] else \"Unrelated\"\n",
    "\n",
    "# Apply to y_resampled and y_test\n",
    "y_resampled_binary = y_resampled.apply(map_to_binary)\n",
    "y_test_binary = y_test.apply(map_to_binary)\n",
    "\n",
    "# Optional: Check class distribution\n",
    "print(\"Train label distribution:\\n\", y_resampled_binary.value_counts())\n",
    "print(\"\\nTest label distribution:\\n\", y_test_binary.value_counts())"
   ]
  },
  {
   "cell_type": "code",
   "execution_count": 33,
   "id": "dcae7cb4",
   "metadata": {},
   "outputs": [
    {
     "name": "stdout",
     "output_type": "stream",
     "text": [
      "              precision    recall  f1-score   support\n",
      "\n",
      "     Related       0.92      0.92      0.92      4028\n",
      "   Unrelated       0.97      0.97      0.97     10964\n",
      "\n",
      "    accuracy                           0.96     14992\n",
      "   macro avg       0.94      0.95      0.95     14992\n",
      "weighted avg       0.96      0.96      0.96     14992\n",
      "\n"
     ]
    }
   ],
   "source": [
    "clf_binary = RandomForestClassifier(n_estimators=200, class_weight='balanced', random_state=42, n_jobs=-1)\n",
    "clf_binary.fit(x_train_tfidf, y_resampled_binary)\n",
    "\n",
    "y_pred_binary = clf_binary.predict(x_test_tfidf)\n",
    "print(classification_report(y_test_binary, y_pred_binary))"
   ]
  },
  {
   "cell_type": "code",
   "execution_count": 34,
   "id": "c7f77205",
   "metadata": {},
   "outputs": [
    {
     "data": {
      "image/png": "[encoded data removed]",
      "text/plain": [
       "<Figure size 600x500 with 2 Axes>"
      ]
     },
     "metadata": {},
     "output_type": "display_data"
    }
   ],
   "source": [
    "labels_binary = clf_binary.classes_\n",
    "cm_binary = confusion_matrix(y_test_binary, y_pred_binary, labels=labels_binary)\n",
    "\n",
    "plt.figure(figsize=(6,5))\n",
    "sns.heatmap(cm_binary, annot=True, fmt='d', cmap='Purples', xticklabels=labels_binary, yticklabels=labels_binary)\n",
    "plt.xlabel(\"Predicted\")\n",
    "plt.ylabel(\"Actual\")\n",
    "plt.title(\"Confusion Matrix - Binary Classification\")\n",
    "plt.show()"
   ]
  },
  {
   "cell_type": "markdown",
   "id": "962a4217",
   "metadata": {},
   "source": [
    "## 3. Preprocessing & Labels"
   ]
  },
  {
   "cell_type": "code",
   "execution_count": 3,
   "id": "757ad5cf",
   "metadata": {},
   "outputs": [
    {
     "name": "stdout",
     "output_type": "stream",
     "text": [
      "binary\n",
      "0    0.73131\n",
      "1    0.26869\n",
      "Name: proportion, dtype: float64\n",
      "fourway\n",
      "unrelated    0.731310\n",
      "discuss      0.178280\n",
      "agree        0.073601\n",
      "disagree     0.016809\n",
      "Name: proportion, dtype: float64\n"
     ]
    }
   ],
   "source": [
    "df['text'] = df['Headline'] + ' ' + df['articleBody']\n",
    "df['binary'] = (df['Stance'] != 'unrelated').astype(int)\n",
    "df['fourway'] = df['Stance']\n",
    "print(df['binary'].value_counts(normalize=True))\n",
    "print(df['fourway'].value_counts(normalize=True))"
   ]
  },
  {
   "cell_type": "markdown",
   "id": "b6e9ad71",
   "metadata": {},
   "source": [
    "## 4. TF-IDF + Logistic Regression (Binary)"
   ]
  },
  {
   "cell_type": "code",
   "execution_count": 5,
   "id": "c7583260",
   "metadata": {},
   "outputs": [
    {
     "name": "stdout",
     "output_type": "stream",
     "text": [
      "Best C: {'C': 10}\n",
      "              precision    recall  f1-score   support\n",
      "\n",
      "           0       0.86      0.81      0.83      1463\n",
      "           1       0.55      0.65      0.60       537\n",
      "\n",
      "    accuracy                           0.77      2000\n",
      "   macro avg       0.71      0.73      0.72      2000\n",
      "weighted avg       0.78      0.77      0.77      2000\n",
      "\n",
      "Accuracy: 0.765\n"
     ]
    }
   ],
   "source": [
    "from sklearn.model_selection import train_test_split\n",
    "from sklearn.feature_extraction.text import TfidfVectorizer\n",
    "from sklearn.linear_model import LogisticRegression\n",
    "from sklearn.model_selection import GridSearchCV\n",
    "from sklearn.metrics import classification_report, accuracy_score\n",
    "\n",
    "# — Stratified “sampling” of 10k rows —\n",
    "# split the full index into 10k train‐idx and the rest (we discard the rest)\n",
    "sample_idx, _ = train_test_split(\n",
    "    df.index,\n",
    "    train_size=10000,\n",
    "    random_state=42,\n",
    "    stratify=df['binary']\n",
    ")\n",
    "sample_df = df.loc[sample_idx]\n",
    "\n",
    "# — Split into train/test —\n",
    "X = sample_df['text']\n",
    "y = sample_df['binary']\n",
    "X_tr, X_te, y_tr, y_te = train_test_split(\n",
    "    X, y,\n",
    "    test_size=0.2,\n",
    "    random_state=42,\n",
    "    stratify=y\n",
    ")\n",
    "\n",
    "# — TF-IDF vectorization —\n",
    "tfidf = TfidfVectorizer(max_features=5000, ngram_range=(1,2), stop_words='english')\n",
    "Xtr = tfidf.fit_transform(X_tr)\n",
    "Xte = tfidf.transform(X_te)\n",
    "\n",
    "# — Hyperparameter search for Logistic Regression —\n",
    "param_grid = {'C': [0.01, 0.1, 1, 10]}\n",
    "lr = LogisticRegression(class_weight='balanced', max_iter=1000)\n",
    "gs = GridSearchCV(lr, param_grid, cv=3, scoring='f1', n_jobs=-1)\n",
    "gs.fit(Xtr, y_tr)\n",
    "print(\"Best C:\", gs.best_params_)\n",
    "\n",
    "# — Evaluate on test set —\n",
    "y_pred = gs.predict(Xte)\n",
    "print(classification_report(y_te, y_pred))\n",
    "print(\"Accuracy:\", accuracy_score(y_te, y_pred))\n"
   ]
  },
  {
   "cell_type": "markdown",
   "id": "a5fc3db0",
   "metadata": {},
   "source": [
    "## 5. TF-IDF + SVM (4-way)"
   ]
  },
  {
   "cell_type": "code",
   "execution_count": 6,
   "id": "a40637ad",
   "metadata": {},
   "outputs": [
    {
     "name": "stdout",
     "output_type": "stream",
     "text": [
      "              precision    recall  f1-score   support\n",
      "\n",
      "       agree       0.20      0.51      0.29       141\n",
      "    disagree       0.15      0.54      0.23        35\n",
      "     discuss       0.40      0.69      0.51       361\n",
      "   unrelated       0.90      0.55      0.68      1463\n",
      "\n",
      "    accuracy                           0.57      2000\n",
      "   macro avg       0.41      0.57      0.43      2000\n",
      "weighted avg       0.74      0.57      0.61      2000\n",
      "\n"
     ]
    }
   ],
   "source": [
    "X4 = sample_df['text']; y4 = sample_df['fourway']\n",
    "X4_tr, X4_te, y4_tr, y4_te = train_test_split(X4, y4, test_size=0.2, random_state=42, stratify=y4)\n",
    "X4tr = tfidf.fit_transform(X4_tr)\n",
    "X4te = tfidf.transform(X4_te)\n",
    "svm = SVC(kernel='linear', class_weight='balanced')\n",
    "svm.fit(X4tr, y4_tr)\n",
    "y4_pred = svm.predict(X4te)\n",
    "print(classification_report(y4_te, y4_pred))"
   ]
  },
  {
   "cell_type": "markdown",
   "id": "b01d5d90",
   "metadata": {},
   "source": [
    "## 6. Transformer Embeddings + LR (Binary)"
   ]
  },
  {
   "cell_type": "code",
   "execution_count": 8,
   "id": "f9cac3f5",
   "metadata": {},
   "outputs": [
    {
     "name": "stdout",
     "output_type": "stream",
     "text": [
      "              precision    recall  f1-score   support\n",
      "\n",
      "           0       0.85      0.84      0.85       293\n",
      "           1       0.58      0.59      0.58       107\n",
      "\n",
      "    accuracy                           0.78       400\n",
      "   macro avg       0.71      0.72      0.71       400\n",
      "weighted avg       0.78      0.78      0.78       400\n",
      "\n",
      "Embedding-based accuracy: 0.775\n"
     ]
    }
   ],
   "source": [
    "# Load BERT\n",
    "from sklearn.model_selection import train_test_split\n",
    "\n",
    "tokenizer_bert = AutoTokenizer.from_pretrained('bert-base-uncased')\n",
    "model_bert     = AutoModel.from_pretrained('bert-base-uncased')\n",
    "model_bert.eval()\n",
    "\n",
    "def get_cls_embeddings(texts, batch_size=16):\n",
    "    embs = []\n",
    "    for i in range(0, len(texts), batch_size):\n",
    "        batch = texts[i:i+batch_size]\n",
    "        tokens = tokenizer_bert(batch,\n",
    "                                padding=True,\n",
    "                                truncation=True,\n",
    "                                return_tensors='pt')\n",
    "        with torch.no_grad():\n",
    "            out = model_bert(**tokens)\n",
    "        embs.append(out.last_hidden_state[:,0,:].cpu().numpy())\n",
    "    return np.vstack(embs)\n",
    "\n",
    "# ─── Stratified “sampling” of 2,000 rows ───────────────────────────\n",
    "sample_idx, _ = train_test_split(\n",
    "    df.index,\n",
    "    train_size=2000,\n",
    "    random_state=42,\n",
    "    stratify=df['binary']\n",
    ")\n",
    "small = df.loc[sample_idx]\n",
    "\n",
    "# ─── Compute embeddings ────────────────────────────────────────────\n",
    "texts = small['text'].tolist()\n",
    "embs  = get_cls_embeddings(texts)\n",
    "\n",
    "# ─── Split embeddings into train/test ─────────────────────────────\n",
    "y_small = small['binary'].values\n",
    "X_tr_e, X_te_e, y_tr_e, y_te_e = train_test_split(\n",
    "    embs,\n",
    "    y_small,\n",
    "    test_size=0.2,\n",
    "    random_state=42,\n",
    "    stratify=y_small\n",
    ")\n",
    "\n",
    "# ─── Train Logistic Regression ────────────────────────────────────\n",
    "lr_e = LogisticRegression(class_weight='balanced', max_iter=1000)\n",
    "lr_e.fit(X_tr_e, y_tr_e)\n",
    "\n",
    "# ─── Evaluate ─────────────────────────────────────────────────────\n",
    "y_pred_e = lr_e.predict(X_te_e)\n",
    "print(classification_report(y_te_e, y_pred_e))\n",
    "print('Embedding-based accuracy:', accuracy_score(y_te_e, y_pred_e))\n"
   ]
  },
  {
   "cell_type": "markdown",
   "id": "4ca23350",
   "metadata": {},
   "source": [
    "## 7. Zero-Shot Classification (BART-MNLI)"
   ]
  },
  {
   "cell_type": "code",
   "execution_count": 9,
   "id": "4bd2d628",
   "metadata": {},
   "outputs": [
    {
     "name": "stderr",
     "output_type": "stream",
     "text": [
      "Zero-Shot: 100%|██████████| 2000/2000 [1:29:23<00:00,  2.68s/it]  "
     ]
    },
    {
     "name": "stdout",
     "output_type": "stream",
     "text": [
      "              precision    recall  f1-score   support\n",
      "\n",
      "           0       0.69      0.01      0.03      1463\n",
      "           1       0.27      0.98      0.42       537\n",
      "\n",
      "    accuracy                           0.27      2000\n",
      "   macro avg       0.48      0.50      0.22      2000\n",
      "weighted avg       0.58      0.27      0.13      2000\n",
      "\n",
      "ZS acc: 0.274\n"
     ]
    },
    {
     "name": "stderr",
     "output_type": "stream",
     "text": [
      "\n"
     ]
    }
   ],
   "source": [
    "zs = pipeline('zero-shot-classification', model='facebook/bart-large-mnli')\n",
    "labels=['Related','Unrelated']\n",
    "y_pred_zs=[]\n",
    "for txt in tqdm(X_te, desc='Zero-Shot'):\n",
    "    out=zs(txt,labels)\n",
    "    y_pred_zs.append(1 if out['labels'][0]=='Related' else 0)\n",
    "print(classification_report(y_te,y_pred_zs))\n",
    "print('ZS acc:', accuracy_score(y_te,y_pred_zs))"
   ]
  },
  {
   "cell_type": "markdown",
   "id": "1613817f",
   "metadata": {},
   "source": [
    "## 8. Few-Shot Classification (Generative)"
   ]
  },
  {
   "cell_type": "code",
   "execution_count": null,
   "id": "bb10232c",
   "metadata": {},
   "outputs": [
    {
     "name": "stderr",
     "output_type": "stream",
     "text": [
      "Few-Shot: 100%|██████████| 200/200 [06:29<00:00,  1.95s/it]"
     ]
    },
    {
     "name": "stdout",
     "output_type": "stream",
     "text": [
      "Few-Shot Generative Report:\n",
      "              precision    recall  f1-score   support\n",
      "\n",
      "           0       0.73      1.00      0.84       146\n",
      "           1       0.00      0.00      0.00        54\n",
      "\n",
      "    accuracy                           0.73       200\n",
      "   macro avg       0.36      0.50      0.42       200\n",
      "weighted avg       0.53      0.73      0.62       200\n",
      "\n",
      "Few-Shot Accuracy: 0.73\n"
     ]
    },
    {
     "name": "stderr",
     "output_type": "stream",
     "text": [
      "\n",
      "/Library/Frameworks/Python.framework/Versions/3.12/lib/python3.12/site-packages/sklearn/metrics/_classification.py:1509: UndefinedMetricWarning: Precision is ill-defined and being set to 0.0 in labels with no predicted samples. Use `zero_division` parameter to control this behavior.\n",
      "  _warn_prf(average, modifier, f\"{metric.capitalize()} is\", len(result))\n",
      "/Library/Frameworks/Python.framework/Versions/3.12/lib/python3.12/site-packages/sklearn/metrics/_classification.py:1509: UndefinedMetricWarning: Precision is ill-defined and being set to 0.0 in labels with no predicted samples. Use `zero_division` parameter to control this behavior.\n",
      "  _warn_prf(average, modifier, f\"{metric.capitalize()} is\", len(result))\n",
      "/Library/Frameworks/Python.framework/Versions/3.12/lib/python3.12/site-packages/sklearn/metrics/_classification.py:1509: UndefinedMetricWarning: Precision is ill-defined and being set to 0.0 in labels with no predicted samples. Use `zero_division` parameter to control this behavior.\n",
      "  _warn_prf(average, modifier, f\"{metric.capitalize()} is\", len(result))\n"
     ]
    }
   ],
   "source": [
    "# Few‐Shot Classification (Generative GPT-2) — Fixed\n",
    "\n",
    "# %% \n",
    "from sklearn.model_selection import train_test_split\n",
    "from sklearn.metrics import classification_report, accuracy_score\n",
    "from transformers import AutoTokenizer, AutoModelForCausalLM\n",
    "from tqdm.auto import tqdm\n",
    "\n",
    "# 1) Load & configure GPT-2 for padding\n",
    "gen_tok   = AutoTokenizer.from_pretrained('gpt2')\n",
    "gen_model = AutoModelForCausalLM.from_pretrained('gpt2')\n",
    "# Tell it explicitly what pad_token is:\n",
    "gen_tok.pad_token = gen_tok.eos_token\n",
    "gen_model.config.pad_token_id = gen_tok.eos_token_id\n",
    "\n",
    "# 2) Build a stratified 1,000-row subset\n",
    "idx1k, _ = train_test_split(\n",
    "    df.index,\n",
    "    train_size=1000,\n",
    "    random_state=42,\n",
    "    stratify=df['binary']\n",
    ")\n",
    "df1k = df.loc[idx1k]\n",
    "train_fs, test_fs = train_test_split(\n",
    "    df1k,\n",
    "    test_size=0.2,\n",
    "    random_state=42,\n",
    "    stratify=df1k['binary']\n",
    ")\n",
    "\n",
    "# 3) Pick 3 few-shot examples (no stratify here)\n",
    "few_examples = train_fs.sample(n=3, random_state=1)\n",
    "\n",
    "# Reserve 10 tokens for generation\n",
    "RESERVE = 10\n",
    "MAX_INPUT = gen_model.config.n_positions - RESERVE\n",
    "\n",
    "def few_shot_predict(headline, body, examples):\n",
    "    # a) Build the prompt\n",
    "    prompt = \"\"\n",
    "    for _, ex in examples.iterrows():\n",
    "        lbl = \"Related\" if ex['binary'] else \"Unrelated\"\n",
    "        prompt += (\n",
    "            f\"Headline: {ex['Headline']}\\n\"\n",
    "            f\"Body: {ex['articleBody']}\\n\"\n",
    "            f\"Stance: {lbl}\\n\"\n",
    "            f\"---\\n\"\n",
    "        )\n",
    "    prompt += f\"Headline: {headline}\\nBody: {body}\\nStance:\"\n",
    "\n",
    "    # b) Tokenize & truncate **only** (no full-pad)\n",
    "    inp = gen_tok(\n",
    "        prompt,\n",
    "        return_tensors='pt',\n",
    "        truncation=True,\n",
    "        max_length=MAX_INPUT\n",
    "    )\n",
    "\n",
    "    # c) Generate exactly 5 new tokens\n",
    "    out_ids = gen_model.generate(\n",
    "        input_ids=inp.input_ids,\n",
    "        attention_mask=inp.attention_mask,\n",
    "        max_new_tokens=5,\n",
    "        pad_token_id=gen_model.config.pad_token_id,\n",
    "        eos_token_id=gen_model.config.eos_token_id,\n",
    "    )[0]\n",
    "\n",
    "    # d) Decode & extract after \"Stance:\"\n",
    "    full = gen_tok.decode(out_ids, skip_special_tokens=True)\n",
    "    answer = full.split(\"Stance:\")[-1].strip().split(\"\\n\")[0]\n",
    "    return answer\n",
    "\n",
    "# 4) Run on test set\n",
    "y_true, y_pred = [], []\n",
    "for _, row in tqdm(test_fs.iterrows(), total=len(test_fs), desc=\"Few-Shot\"):\n",
    "    y_true.append(row['binary'])\n",
    "    pred = few_shot_predict(row['Headline'], row['articleBody'], few_examples)\n",
    "    y_pred.append(1 if pred == \"Related\" else 0)\n",
    "\n",
    "# 5) Report\n",
    "print(\"Few-Shot Generative Report:\")\n",
    "print(classification_report(y_true, y_pred))\n",
    "print(\"Few-Shot Accuracy:\", accuracy_score(y_true, y_pred))\n"
   ]
  },
  {
   "cell_type": "markdown",
   "id": "22fafe09",
   "metadata": {},
   "source": [
    "## 9. Chain-of-Thought Prompting (FLAN-T5)"
   ]
  },
  {
   "cell_type": "code",
   "execution_count": null,
   "id": "f9f3bc59",
   "metadata": {},
   "outputs": [
    {
     "name": "stdout",
     "output_type": "stream",
     "text": [
      "=== Qualitative Chain‐of‐Thought Samples ===\n",
      "\n",
      "Disagree\n",
      "--------------------------------------------------------------------------------\n",
      "Disagree\n",
      "--------------------------------------------------------------------------------\n",
      "Disagree\n",
      "--------------------------------------------------------------------------------\n",
      "\n",
      "=== Quantitative CoT Evaluation ===\n",
      "              precision    recall  f1-score   support\n",
      "\n",
      "   Unrelated       0.75      1.00      0.86       293\n",
      "     Related       0.90      0.08      0.15       107\n",
      "\n",
      "    accuracy                           0.75       400\n",
      "   macro avg       0.82      0.54      0.50       400\n",
      "weighted avg       0.79      0.75      0.67       400\n",
      "\n",
      "CoT Accuracy: 0.7525\n"
     ]
    }
   ],
   "source": [
    "\n",
    "# 9. Chain‐of‐Thought Inspection & Evaluation in One Cell\n",
    "\n",
    "# %%\n",
    "from sklearn.model_selection import train_test_split\n",
    "from sklearn.metrics import classification_report, accuracy_score\n",
    "from transformers import AutoTokenizer, AutoModelForSeq2SeqLM\n",
    "import torch\n",
    "\n",
    "# 1) Load Flan-T5 and its tokenizer\n",
    "tokenizer_cot = AutoTokenizer.from_pretrained('google/flan-t5-large')\n",
    "model_cot     = AutoModelForSeq2SeqLM.from_pretrained('google/flan-t5-large')\n",
    "model_cot.eval()\n",
    "\n",
    "# 2) Build a stratified test split (reuse your df with df['binary'] or df['fourway'])\n",
    "#    Here we do binary (Related vs Unrelated)\n",
    "idx2k, _   = train_test_split(df.index, train_size=2000, random_state=42, stratify=df['binary'])\n",
    "df2k       = df.loc[idx2k]\n",
    "_, test_cot = train_test_split(df2k, test_size=0.2, random_state=42, stratify=df2k['binary'])\n",
    "\n",
    "# 3) Qualitative: print full CoT outputs for first 3 examples\n",
    "print(\"=== Qualitative Chain‐of‐Thought Samples ===\\n\")\n",
    "for _, row in test_cot.head(3).iterrows():\n",
    "    prompt = (\n",
    "        \"You are an expert in text analysis. Think step-by-step:\\n\"\n",
    "        \"1) Is the article Related or Unrelated to the headline?\\n\"\n",
    "        \"2) If Related, is it Agree, Disagree, or Discuss?\\n\"\n",
    "        f\"Headline: {row['Headline']}\\n\"\n",
    "        f\"Body: {row['articleBody']}\\n\"\n",
    "        \"Answer:\"\n",
    "    )\n",
    "    tokens = tokenizer_cot(\n",
    "        prompt,\n",
    "        return_tensors='pt',\n",
    "        truncation=True,\n",
    "        max_length=512\n",
    "    )\n",
    "    out = model_cot.generate(\n",
    "        **tokens,\n",
    "        max_new_tokens=50,\n",
    "        pad_token_id=tokenizer_cot.eos_token_id,\n",
    "        eos_token_id=tokenizer_cot.eos_token_id\n",
    "    )\n",
    "    text = tokenizer_cot.decode(out[0], skip_special_tokens=True)\n",
    "    print(text)\n",
    "    print(\"-\" * 80)\n",
    "\n",
    "# 4) Quantitative: parse the final label and compute metrics\n",
    "y_true, y_pred = [], []\n",
    "for _, row in test_cot.iterrows():\n",
    "    # regenerate prompt\n",
    "    prompt = (\n",
    "        \"You are an expert in text analysis. Think step-by-step:\\n\"\n",
    "        \"1) Is the article Related or Unrelated to the headline?\\n\"\n",
    "        \"2) If Related, is it Agree, Disagree, or Discuss?\\n\"\n",
    "        f\"Headline: {row['Headline']}\\n\"\n",
    "        f\"Body: {row['articleBody']}\\n\"\n",
    "        \"Answer:\"\n",
    "    )\n",
    "    tokens = tokenizer_cot(\n",
    "        prompt,\n",
    "        return_tensors='pt',\n",
    "        truncation=True,\n",
    "        max_length=512\n",
    "    )\n",
    "    out = model_cot.generate(\n",
    "        **tokens,\n",
    "        max_new_tokens=50,\n",
    "        pad_token_id=tokenizer_cot.eos_token_id,\n",
    "        eos_token_id=tokenizer_cot.eos_token_id\n",
    "    )\n",
    "    text = tokenizer_cot.decode(out[0], skip_special_tokens=True)\n",
    "    final_label = text.strip().split()[-1]  # assumes the last token is the label\n",
    "    # map to binary or 4-way as appropriate\n",
    "    y_true.append(row['binary'])  \n",
    "    y_pred.append(1 if final_label.lower()==\"related\" else 0)\n",
    "\n",
    "# 5) Print classification report\n",
    "print(\"\\n=== Quantitative CoT Evaluation ===\")\n",
    "print(classification_report(y_true, y_pred, target_names=[\"Unrelated\",\"Related\"]))\n",
    "print(\"CoT Accuracy:\", accuracy_score(y_true, y_pred))\n"
   ]
  }
 ],
 "metadata": {
  "kernelspec": {
   "display_name": "Python (ds_env)",
   "language": "python",
   "name": "ds_env"
  },
  "language_info": {
   "codemirror_mode": {
    "name": "ipython",
    "version": 3
   },
   "file_extension": ".py",
   "mimetype": "text/x-python",
   "name": "python",
   "nbconvert_exporter": "python",
   "pygments_lexer": "ipython3",
   "version": "3.12.0"
  }
 },
 "nbformat": 4,
 "nbformat_minor": 5
}
